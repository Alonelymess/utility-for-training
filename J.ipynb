{
 "cells": [
  {
   "cell_type": "code",
   "execution_count": 6,
   "metadata": {},
   "outputs": [],
   "source": [
    "import os\n",
    "import spectral as sp\n",
    "import cv2\n",
    "import numpy as np\n",
    "from PIL import Image\n",
    "import matplotlib.pyplot as plt\n",
    "import spectral.io.envi as envi\n",
    "from spectral import imshow, view_cube\n",
    "from tqdm import tqdm\n",
    "import pandas as pd\n",
    "import utm\n",
    "import json\n",
    "import torch\n",
    "import torch.nn as nn\n",
    "from sklearn.model_selection import train_test_split"
   ]
  },
  {
   "cell_type": "code",
   "execution_count": 7,
   "metadata": {},
   "outputs": [],
   "source": [
    "data_x = json.load(open('data_x_J.json'))\n",
    "data_y = json.load(open('data_y_J.json'))"
   ]
  },
  {
   "cell_type": "code",
   "execution_count": 8,
   "metadata": {},
   "outputs": [
    {
     "data": {
      "text/plain": [
       "(10, 21, 82)"
      ]
     },
     "execution_count": 8,
     "metadata": {},
     "output_type": "execute_result"
    }
   ],
   "source": [
    "np.array(data_x).shape"
   ]
  },
  {
   "cell_type": "code",
   "execution_count": 9,
   "metadata": {},
   "outputs": [],
   "source": [
    "# Flatten the data\n",
    "data_x = np.array(data_x).reshape(210, 82)\n",
    "data_y = np.array(data_y).reshape(210)"
   ]
  },
  {
   "cell_type": "code",
   "execution_count": 10,
   "metadata": {},
   "outputs": [],
   "source": [
    "S1_x, S1_y = data_x[:90], data_y[:90]\n",
    "S2_x, S2_y = data_x[90:150], data_y[90:150]\n",
    "S3_x, S3_y = data_x[150:], data_y[150:]"
   ]
  },
  {
   "cell_type": "code",
   "execution_count": 5,
   "metadata": {},
   "outputs": [],
   "source": [
    "# train_x, test_x, train_y, test_y = train_test_split(data_x, data_y, test_size=0.2, random_state=42)\n",
    "# train_x, val_x, train_y, val_y = train_test_split(train_x, train_y, test_size=0.2, random_state=42)"
   ]
  },
  {
   "cell_type": "code",
   "execution_count": 9,
   "metadata": {},
   "outputs": [],
   "source": [
    "from torch.utils.data import Dataset, DataLoader\n",
    "from torchvision import transforms\n",
    "\n",
    "class HyperDataset(Dataset):\n",
    "    def __init__(self, data_x, data_y):\n",
    "        self.data_x = np.array(data_x)\n",
    "        self.data_y = np.array(data_y)\n",
    "        self.m_x = np.mean(self.data_x)\n",
    "        self.s_x = np.std(self.data_x)\n",
    "        self.m_y = np.mean(self.data_y)\n",
    "        self.s_y = np.std(self.data_y)\n",
    "\n",
    "    def __len__(self):\n",
    "        return len(self.data_x)\n",
    "    \n",
    "    def mean_x(self):\n",
    "        return self.m_x\n",
    "    def std_x(self):\n",
    "        return self.s_x\n",
    "    def mean_y(self):\n",
    "        return self.m_y\n",
    "    def std_y(self):\n",
    "        return self.s_y\n",
    "        \n",
    "    def __getitem__(self, index):\n",
    "        x = self.data_x[index]\n",
    "        y = self.data_y[index]\n",
    "        return torch.Tensor(x), torch.FloatTensor([y])\n",
    "    \n",
    "train_data = HyperDataset(S1_x, S1_y)\n",
    "val_data = HyperDataset(S2_x, S2_y)\n",
    "test_data = HyperDataset(S3_x, S3_y)"
   ]
  },
  {
   "cell_type": "code",
   "execution_count": 74,
   "metadata": {},
   "outputs": [
    {
     "data": {
      "text/plain": [
       "torch.Size([82])"
      ]
     },
     "execution_count": 74,
     "metadata": {},
     "output_type": "execute_result"
    }
   ],
   "source": [
    "train_data[0][0].shape"
   ]
  },
  {
   "cell_type": "code",
   "execution_count": 10,
   "metadata": {},
   "outputs": [],
   "source": [
    "train_loader = DataLoader(train_data, batch_size=32, shuffle=False)\n",
    "val_loader = DataLoader(val_data, batch_size=32, shuffle=False)\n",
    "test_loader = DataLoader(test_data, batch_size=1, shuffle=False)"
   ]
  },
  {
   "cell_type": "code",
   "execution_count": 11,
   "metadata": {},
   "outputs": [],
   "source": [
    "device = torch.device('cuda' if torch.cuda.is_available() else 'cpu')"
   ]
  },
  {
   "cell_type": "code",
   "execution_count": 19,
   "metadata": {},
   "outputs": [],
   "source": [
    "# Define the model\n",
    "class RegressionModel(nn.Module):\n",
    "    def __init__(self):\n",
    "        super(RegressionModel, self).__init__()\n",
    "        \n",
    "        self.sequence = nn.Sequential(\n",
    "            # nn.Conv1d(1, 16, 3),\n",
    "            # nn.ReLU(),\n",
    "            # nn.Conv1d(16, 32, 3),\n",
    "            # nn.ReLU(),\n",
    "            # nn.Flatten(),\n",
    "            # nn.Dropout(0.5),\n",
    "            # nn.GELU(),\n",
    "            # nn.Linear(64, 32),\n",
    "            # nn.Dropout(0.5),\n",
    "            # nn.ReLU(),\n",
    "            nn.Linear(82, 1),\n",
    "            # nn.ReLU(),\n",
    "            # nn.Linear(10, 5),\n",
    "            # nn.ReLU(),\n",
    "            # nn.Linear(5, 1)\n",
    "        )\n",
    "\n",
    "    def forward(self, x):\n",
    "        x = self.sequence(x)\n",
    "        return x\n",
    "    \n",
    "model = RegressionModel().to(device)"
   ]
  },
  {
   "cell_type": "code",
   "execution_count": 16,
   "metadata": {},
   "outputs": [],
   "source": [
    "# Define the Gradient Boosting model\n",
    "class GradientBoostingRegressor(nn.Module):\n",
    "    def __init__(self, n_estimators=100, device='cuda'):\n",
    "        super(GradientBoostingRegressor, self).__init__()\n",
    "        self.n_estimators = n_estimators\n",
    "        self.device = device\n",
    "        \n",
    "        # Create a list of weak learners (fully-connected neural networks)\n",
    "        self.weak_learners = nn.ModuleList([self.create_weak_learner() for _ in range(n_estimators)])\n",
    "        \n",
    "        # Initialize the output weights\n",
    "        self.output_weights = torch.ones(n_estimators, 1, requires_grad=True, device=self.device)\n",
    "\n",
    "    def create_weak_learner(self):\n",
    "        return nn.Sequential(\n",
    "            nn.Linear(82, 1),\n",
    "            # nn.GELU(),\n",
    "            # nn.Dropout(0.3),\n",
    "            # nn.Linear(64, 32),\n",
    "            # nn.Sigmoid(),\n",
    "            # nn.Dropout(0.3),\n",
    "            # nn.Linear(32, 1),\n",
    "        ).to(self.device)\n",
    "\n",
    "    def forward(self, x):\n",
    "        batch_size = x.size(0)\n",
    "        outputs = torch.zeros(batch_size, 1, device=self.device)\n",
    "        # print(outputs.shape)\n",
    "\n",
    "        for i, weak_learner in enumerate(self.weak_learners):\n",
    "            outputs += self.output_weights[i] * weak_learner(x)\n",
    "\n",
    "        return outputs\n",
    "    \n",
    "model = GradientBoostingRegressor(n_estimators=10, device=device)"
   ]
  },
  {
   "cell_type": "code",
   "execution_count": 12,
   "metadata": {},
   "outputs": [],
   "source": [
    "def r2_loss(y_true, y_pred):\n",
    "    ss_total = torch.sum((y_true - torch.mean(y_true)) ** 2)\n",
    "    ss_residual = torch.sum((y_true - y_pred) ** 2)\n",
    "    r2 = 1 - (ss_residual / (ss_total + 1e-6))  # Avoid division by zero\n",
    "    return -r2  # Return negative R^2 for minimization"
   ]
  },
  {
   "cell_type": "code",
   "execution_count": 13,
   "metadata": {},
   "outputs": [],
   "source": [
    "def mae_loss(y_true, y_pred):\n",
    "    return torch.mean(torch.abs(y_true - y_pred))"
   ]
  },
  {
   "cell_type": "code",
   "execution_count": 14,
   "metadata": {},
   "outputs": [],
   "source": [
    "def adjusted_r2_loss(y_true, y_pred, n_features):\n",
    "    r2 = r2_loss(y_true, y_pred)\n",
    "    n = y_true.size(0)\n",
    "    p = n_features\n",
    "    adjusted_r2 = 1 - (1 - r2) * (n - 1) / (n - p - 1)\n",
    "    return -adjusted_r2"
   ]
  },
  {
   "cell_type": "code",
   "execution_count": 29,
   "metadata": {},
   "outputs": [
    {
     "name": "stdout",
     "output_type": "stream",
     "text": [
      "torch.Size([32, 82])\n",
      "torch.Size([32, 1])\n",
      "31587236.0\n",
      "torch.Size([32, 82])\n",
      "torch.Size([32, 1])\n",
      "40504824.0\n",
      "torch.Size([26, 82])\n",
      "torch.Size([26, 1])\n",
      "28193418.0\n",
      "33428492.666666668\n"
     ]
    }
   ],
   "source": [
    "# model.load_state_dict(torch.load('runs/100000_J_conv_best.pth'))\n",
    "model.eval()\n",
    "out = []\n",
    "y = []\n",
    "with torch.no_grad():\n",
    "    loss = 0\n",
    "    for i, (x, y) in enumerate(train_loader):\n",
    "        x, y = x.to(device), y.to(device)\n",
    "        # x = x.unsqueeze(1)\n",
    "        print(x.shape)\n",
    "        output = model(x)\n",
    "        print(output.shape)\n",
    "        \n",
    "        loss += nn.MSELoss()(y, output).item()\n",
    "        print(nn.MSELoss()(y, output).item())\n",
    "        \n",
    "    loss /= len(train_loader)\n",
    "    print(loss)"
   ]
  },
  {
   "cell_type": "code",
   "execution_count": 17,
   "metadata": {},
   "outputs": [],
   "source": [
    "from torch.optim.lr_scheduler import ReduceLROnPlateau, CyclicLR\n",
    "\n",
    "#Set up the training loop\n",
    "loss_fn = adjusted_r2_loss\n",
    "# loss_fn = nn.MSELoss()\n",
    "optimizer = torch.optim.Adam(model.parameters(), lr=1)\n",
    "num_epochs = 20000\n",
    "lr1 = ReduceLROnPlateau\n",
    "lr2 = CyclicLR"
   ]
  },
  {
   "cell_type": "code",
   "execution_count": 131,
   "metadata": {},
   "outputs": [
    {
     "data": {
      "text/plain": [
       "'adjusted_r2_loss'"
      ]
     },
     "execution_count": 131,
     "metadata": {},
     "output_type": "execute_result"
    }
   ],
   "source": [
    "loss_fn.__name__"
   ]
  },
  {
   "cell_type": "code",
   "execution_count": 20,
   "metadata": {},
   "outputs": [],
   "source": [
    "def save_checkpoint(state, is_best, epoch):\n",
    "    torch.save(state[f'state_dict'], f'runs/{epoch}_J_conv_grad_last.pth')\n",
    "    if is_best:\n",
    "        # print('Found best')\n",
    "        torch.save(state[f'state_dict'], f'runs/{epoch}_J_conv_grad_best.pth')"
   ]
  },
  {
   "cell_type": "code",
   "execution_count": 137,
   "metadata": {},
   "outputs": [],
   "source": [
    "import pandas as pd\n",
    "import wandb\n",
    "# from IPython.display import clear_output\n",
    "def train(model, epoch, train_dataloader, val_dataloader, optimizer, lr_list, loss_fn, resume = False):\n",
    "    if resume == False:\n",
    "        best_loss = float('inf')\n",
    "        result = {'epoch':[] ,'train_loss_total':[], \"val_loss_total\":[], 'lr':[]}\n",
    "        lr_ROP = None\n",
    "        lr_else = []\n",
    "        for lr in lr_list:\n",
    "            if lr.__name__ == 'ReduceLROnPlateau':\n",
    "                lr_ROP = lr(optimizer, mode='max', factor=0.1, patience=10, threshold=0, eps=0)\n",
    "            elif lr.__name__ == 'CyclicLR':\n",
    "                lr_else.append(lr(optimizer, base_lr=1e-4, max_lr=1e-2, step_size_up=2000, cycle_momentum=False))\n",
    "    else:\n",
    "        r_prev = pd.read_csv(f'runs/result.csv')\n",
    "        result = r_prev.to_dict('list')\n",
    "        best_loss = min(r_prev['val_loss_total'])\n",
    "        optimizer = torch.optim.Adam(model.parameters(), lr=float(eval(result['lr'][-1])[0]))\n",
    "        \n",
    "        lr_ROP = None\n",
    "        lr_else = []\n",
    "        for lr in lr_list:\n",
    "            if lr.__name__ == 'ReduceLROnPlateau':\n",
    "                lr_ROP = lr(optimizer, mode='max', factor=0.1, patience=10, threshold=0, eps=0)\n",
    "            elif lr.__name__ == 'CyclicLR':\n",
    "                lr_else.append(lr(optimizer, base_lr=1e-4, max_lr=1e-2, step_size_up=2000, cycle_momentum=False))\n",
    "        model.load_state_dict(torch.load(f\"runs/{epoch}_last.pth\"))\n",
    "        \n",
    "        \n",
    "    early_stop = 1000\n",
    "    count_stop = 0\n",
    "    \n",
    "            \n",
    "    # Initialize Weights & Biases\n",
    "    wandb.init(\n",
    "        project=\"J1-regressor\", \n",
    "        config={\n",
    "            \"learning_rate\": lr_ROP.get_last_lr(),\n",
    "            \"epochs\": epoch,\n",
    "        })\n",
    "     \n",
    "    with tqdm(range(epoch), desc=\"Epoch\", unit=\"epoch\") as pbar:   \n",
    "        for e in pbar:\n",
    "            # Training loop\n",
    "            if resume == False:\n",
    "                result['epoch'].append(e+1)\n",
    "            else:\n",
    "                result['epoch'].append(e+1 + len(result['epoch']))\n",
    "            loss_epoch = 0\n",
    "            model.train()\n",
    "\n",
    "            for batch_data, batch_labels in train_dataloader:\n",
    "\n",
    "                batch_data = batch_data.to(device).unsqueeze(1)\n",
    "                # batch_data = (batch_data - train_data.mean_x())/train_data.std_x() # Normalize the data\n",
    "                #batch_labels = batch_labels.movedim(0, 1)\n",
    "\n",
    "                # Forward pass\n",
    "                label = batch_labels.to(device)\n",
    "                # label = (label - train_data.mean())/train_data.std() # Normalize the labels\n",
    "\n",
    "                output = model(batch_data)\n",
    "\n",
    "                # Optim\n",
    "                optimizer.zero_grad()\n",
    "                if loss_fn.__name__ == 'adjusted_r2_loss':\n",
    "                    loss = loss_fn(output, label, 82)\n",
    "                # else:\n",
    "                #     loss = loss_fn(output, label)\n",
    "                loss_epoch += loss.item()\n",
    "                loss.backward()\n",
    "                optimizer.step()\n",
    "                \n",
    "\n",
    "\n",
    "            # Combined loss\n",
    "            loss_epoch /= len(train_dataloader)\n",
    "            result['train_loss_total'].append(loss_epoch)\n",
    "\n",
    "            # print('Loss: ', loss_epoch)\n",
    "\n",
    "            # Vaidating\n",
    "            num_batches = len(val_dataloader)\n",
    "            model.eval()\n",
    "\n",
    "\n",
    "            test_loss = 0\n",
    "        \n",
    "            with torch.no_grad():\n",
    "                # print('Val------')\n",
    "                for X, y in val_dataloader:\n",
    "\n",
    "                    X = X.to(device).unsqueeze(1)\n",
    "                    # X = (X - train_data.mean_x())/train_data.std_x() # Normalize the data\n",
    "                    pred = model(X)\n",
    "\n",
    "                    label = y.to(device)\n",
    "                    # label = (label - train_data.mean())/train_data.std() # Normalize the labels   \n",
    "                    if loss_fn.__name__ == 'adjusted_r2_loss':\n",
    "                        loss = loss_fn(pred, label, 82)\n",
    "                    # else:\n",
    "                    #     loss = loss_fn(pred, label)\n",
    "                    test_loss += loss.item()\n",
    "                    \n",
    "                    for lr in lr_else:\n",
    "                        lr.step()\n",
    "\n",
    "            test_loss /= num_batches\n",
    "            lr_ROP.step(test_loss)\n",
    "            result['lr'].append(lr_ROP.get_last_lr())\n",
    "            \n",
    "            result['val_loss_total'].append(test_loss)\n",
    "            \n",
    "            # Update the progress bar with 100*n epoch, train loss, and val loss\n",
    "            if e % 10 == 0:\n",
    "                pbar.set_postfix(train_loss=f\"{loss_epoch:.4f}\", val_loss=f\"{test_loss:.4f}\")\n",
    "                wandb.log({\"train_loss\": loss_epoch, \"val_loss\": test_loss})\n",
    "            \n",
    "            # remember best acc@ and save checkpoint\n",
    "            \n",
    "            is_best = test_loss < best_loss\n",
    "            if is_best:\n",
    "                count_stop = 0\n",
    "                pbar.set_description(f'Epoch{e}: Good with lr: {lr_ROP.get_last_lr()}', refresh=True)\n",
    "            else:\n",
    "                count_stop += 1\n",
    "                if count_stop > early_stop:\n",
    "                    print('Early stopping')\n",
    "                    break\n",
    "            best_loss = min(test_loss, best_loss)\n",
    "            save_checkpoint({\n",
    "                f'state_dict': model.state_dict(),\n",
    "            }, is_best, epoch)\n",
    "            \n",
    "            \n",
    "\n",
    "            # print(f\"\"\"Val Error:\n",
    "            # Avg loss: {test_loss}\n",
    "            # \"\"\")\n",
    "            # if (e+1) % 10 == 0:\n",
    "            #     clear_output(wait=True)\n",
    "    r = pd.DataFrame(result)\n",
    "    r.to_csv(f'runs/resultJ.csv')\n",
    "    return result"
   ]
  },
  {
   "cell_type": "code",
   "execution_count": 32,
   "metadata": {},
   "outputs": [
    {
     "data": {
      "text/plain": [
       "torch.Size([32, 82])"
      ]
     },
     "execution_count": 32,
     "metadata": {},
     "output_type": "execute_result"
    }
   ],
   "source": [
    "next(iter(train_loader))[0].shape"
   ]
  },
  {
   "cell_type": "code",
   "execution_count": 61,
   "metadata": {},
   "outputs": [],
   "source": [
    "train_x, train_y = torch.tensor(S1_x, dtype=torch.float).to(device), torch.tensor(S1_y, dtype=torch.float).unsqueeze(dim=1).to(device)\n",
    "val_x, val_y = torch.tensor(S2_x, dtype=torch.float).to(device), torch.tensor(S2_y, dtype=torch.float).unsqueeze(dim=1).to(device)\n",
    "test_x, test_y = torch.tensor(S3_x, dtype=torch.float).to(device), torch.tensor(S3_y, dtype=torch.float).unsqueeze(dim=1).to(device)"
   ]
  },
  {
   "cell_type": "code",
   "execution_count": 62,
   "metadata": {},
   "outputs": [
    {
     "data": {
      "text/plain": [
       "torch.Size([90, 82])"
      ]
     },
     "execution_count": 62,
     "metadata": {},
     "output_type": "execute_result"
    }
   ],
   "source": [
    "train_x.shape"
   ]
  },
  {
   "cell_type": "code",
   "execution_count": 63,
   "metadata": {},
   "outputs": [
    {
     "data": {
      "text/plain": [
       "torch.Size([90, 1])"
      ]
     },
     "execution_count": 63,
     "metadata": {},
     "output_type": "execute_result"
    }
   ],
   "source": [
    "train_y.shape"
   ]
  },
  {
   "cell_type": "code",
   "execution_count": 64,
   "metadata": {},
   "outputs": [
    {
     "name": "stdout",
     "output_type": "stream",
     "text": [
      "torch.Size([90, 1])\n",
      "tensor(33729804., device='cuda:0', grad_fn=<MseLossBackward0>)\n"
     ]
    }
   ],
   "source": [
    "model = RegressionModel().to(device)   \n",
    "model.eval()\n",
    "out = model(train_x)\n",
    "print(out.shape)\n",
    "loss = nn.MSELoss()(train_y, out)\n",
    "print(loss)"
   ]
  },
  {
   "cell_type": "code",
   "execution_count": 21,
   "metadata": {},
   "outputs": [
    {
     "name": "stderr",
     "output_type": "stream",
     "text": [
      "\u001b[34m\u001b[1mwandb\u001b[0m: \u001b[33mWARNING\u001b[0m Calling wandb.login() after wandb.init() has no effect.\n"
     ]
    },
    {
     "data": {
      "text/html": [
       "Finishing last run (ID:c844oq8c) before initializing another..."
      ],
      "text/plain": [
       "<IPython.core.display.HTML object>"
      ]
     },
     "metadata": {},
     "output_type": "display_data"
    },
    {
     "data": {
      "text/html": [
       " View run <strong style=\"color:#cdcd00\">rose-salad-19</strong> at: <a href='https://wandb.ai/grpprj/J1-gradboostregressor/runs/c844oq8c' target=\"_blank\">https://wandb.ai/grpprj/J1-gradboostregressor/runs/c844oq8c</a><br/> View project at: <a href='https://wandb.ai/grpprj/J1-gradboostregressor' target=\"_blank\">https://wandb.ai/grpprj/J1-gradboostregressor</a><br/>Synced 6 W&B file(s), 0 media file(s), 0 artifact file(s) and 0 other file(s)"
      ],
      "text/plain": [
       "<IPython.core.display.HTML object>"
      ]
     },
     "metadata": {},
     "output_type": "display_data"
    },
    {
     "data": {
      "text/html": [
       "Find logs at: <code>./wandb/run-20240816_122505-c844oq8c/logs</code>"
      ],
      "text/plain": [
       "<IPython.core.display.HTML object>"
      ]
     },
     "metadata": {},
     "output_type": "display_data"
    },
    {
     "data": {
      "text/html": [
       "The new W&B backend becomes opt-out in version 0.18.0; try it out with `wandb.require(\"core\")`! See https://wandb.me/wandb-core for more information."
      ],
      "text/plain": [
       "<IPython.core.display.HTML object>"
      ]
     },
     "metadata": {},
     "output_type": "display_data"
    },
    {
     "data": {
      "text/html": [
       "Successfully finished last run (ID:c844oq8c). Initializing new run:<br/>"
      ],
      "text/plain": [
       "<IPython.core.display.HTML object>"
      ]
     },
     "metadata": {},
     "output_type": "display_data"
    },
    {
     "data": {
      "text/html": [
       "wandb version 0.17.7 is available!  To upgrade, please run:\n",
       " $ pip install wandb --upgrade"
      ],
      "text/plain": [
       "<IPython.core.display.HTML object>"
      ]
     },
     "metadata": {},
     "output_type": "display_data"
    },
    {
     "data": {
      "text/html": [
       "Tracking run with wandb version 0.17.6"
      ],
      "text/plain": [
       "<IPython.core.display.HTML object>"
      ]
     },
     "metadata": {},
     "output_type": "display_data"
    },
    {
     "data": {
      "text/html": [
       "Run data is saved locally in <code>/storage/student5/minh_chu/PhosphoreHyper/wandb/run-20240816_123733-g8pkx6ip</code>"
      ],
      "text/plain": [
       "<IPython.core.display.HTML object>"
      ]
     },
     "metadata": {},
     "output_type": "display_data"
    },
    {
     "data": {
      "text/html": [
       "Syncing run <strong><a href='https://wandb.ai/grpprj/J1-gradboostregressor/runs/g8pkx6ip' target=\"_blank\">vital-serenity-22</a></strong> to <a href='https://wandb.ai/grpprj/J1-gradboostregressor' target=\"_blank\">Weights & Biases</a> (<a href='https://wandb.me/run' target=\"_blank\">docs</a>)<br/>"
      ],
      "text/plain": [
       "<IPython.core.display.HTML object>"
      ]
     },
     "metadata": {},
     "output_type": "display_data"
    },
    {
     "data": {
      "text/html": [
       " View project at <a href='https://wandb.ai/grpprj/J1-gradboostregressor' target=\"_blank\">https://wandb.ai/grpprj/J1-gradboostregressor</a>"
      ],
      "text/plain": [
       "<IPython.core.display.HTML object>"
      ]
     },
     "metadata": {},
     "output_type": "display_data"
    },
    {
     "data": {
      "text/html": [
       " View run at <a href='https://wandb.ai/grpprj/J1-gradboostregressor/runs/g8pkx6ip' target=\"_blank\">https://wandb.ai/grpprj/J1-gradboostregressor/runs/g8pkx6ip</a>"
      ],
      "text/plain": [
       "<IPython.core.display.HTML object>"
      ]
     },
     "metadata": {},
     "output_type": "display_data"
    },
    {
     "name": "stderr",
     "output_type": "stream",
     "text": [
      "Estimator1: Good with loss: 9103672.0:  13%|█▎        | 12632/100000 [00:45<05:12, 279.77epoch/s, train_loss=Estimator1:5594864.5000, val_loss=Estimator1:9548383.0000]  \n"
     ]
    },
    {
     "name": "stdout",
     "output_type": "stream",
     "text": [
      "Early stopping\n"
     ]
    },
    {
     "name": "stderr",
     "output_type": "stream",
     "text": [
      "Estimator2: Good with loss: 9545950.0:  11%|█▏        | 11442/100000 [00:34<04:27, 331.52epoch/s, train_loss=Estimator2:3023771.7500, val_loss=Estimator2:11735312.0000]\n"
     ]
    },
    {
     "name": "stdout",
     "output_type": "stream",
     "text": [
      "Early stopping\n"
     ]
    },
    {
     "name": "stderr",
     "output_type": "stream",
     "text": [
      "Estimator3: Good with loss: 13771435.0:  20%|█▉        | 19703/100000 [01:11<04:52, 274.68epoch/s, train_loss=Estimator3:1704968.6250, val_loss=Estimator3:13906197.0000]\n"
     ]
    },
    {
     "name": "stdout",
     "output_type": "stream",
     "text": [
      "Early stopping\n"
     ]
    },
    {
     "name": "stderr",
     "output_type": "stream",
     "text": [
      "Estimator4: Good with loss: 10273758.0:  55%|█████▌    | 55097/100000 [03:50<03:08, 238.66epoch/s, train_loss=Estimator4:1108736.2500, val_loss=Estimator4:10560498.0000]\n"
     ]
    },
    {
     "name": "stdout",
     "output_type": "stream",
     "text": [
      "Early stopping\n"
     ]
    },
    {
     "name": "stderr",
     "output_type": "stream",
     "text": [
      "Estimator5: Good with loss: 13426900.0:  16%|█▋        | 16475/100000 [01:02<05:19, 261.82epoch/s, train_loss=Estimator5:975531.8750, val_loss=Estimator5:13800593.0000]\n"
     ]
    },
    {
     "name": "stdout",
     "output_type": "stream",
     "text": [
      "Early stopping\n"
     ]
    },
    {
     "name": "stderr",
     "output_type": "stream",
     "text": [
      "Estimator6: Good with loss: 14255553.0:  10%|█         | 10001/100000 [00:30<04:30, 332.76epoch/s, train_loss=Estimator6:924238.0625, val_loss=Estimator6:15397236.0000]\n"
     ]
    },
    {
     "name": "stdout",
     "output_type": "stream",
     "text": [
      "Early stopping\n"
     ]
    },
    {
     "name": "stderr",
     "output_type": "stream",
     "text": [
      "Estimator7: Good with loss: 16509317.0:  12%|█▏        | 11825/100000 [00:39<04:55, 298.72epoch/s, train_loss=Estimator7:881715.7500, val_loss=Estimator7:17292764.0000]\n"
     ]
    },
    {
     "name": "stdout",
     "output_type": "stream",
     "text": [
      "Early stopping\n"
     ]
    },
    {
     "name": "stderr",
     "output_type": "stream",
     "text": [
      "Estimator8: Good with loss: 18312876.0:  10%|█         | 10001/100000 [00:33<04:58, 301.11epoch/s, train_loss=Estimator8:838348.4375, val_loss=Estimator8:19079038.0000]\n"
     ]
    },
    {
     "name": "stdout",
     "output_type": "stream",
     "text": [
      "Early stopping\n"
     ]
    },
    {
     "name": "stderr",
     "output_type": "stream",
     "text": [
      "Estimator9: Good with loss: 19504354.0:  12%|█▏        | 12465/100000 [00:44<05:10, 281.48epoch/s, train_loss=Estimator9:809552.3750, val_loss=Estimator9:19871804.0000]\n"
     ]
    },
    {
     "name": "stdout",
     "output_type": "stream",
     "text": [
      "Early stopping\n"
     ]
    },
    {
     "name": "stderr",
     "output_type": "stream",
     "text": [
      "Estimator10: Good with loss: 20463766.0:  10%|█         | 10072/100000 [00:33<04:56, 303.42epoch/s, train_loss=Estimator10:764337.6875, val_loss=Estimator10:21026322.0000]\n"
     ]
    },
    {
     "name": "stdout",
     "output_type": "stream",
     "text": [
      "Early stopping\n"
     ]
    },
    {
     "name": "stderr",
     "output_type": "stream",
     "text": [
      "Estimator11: Good with loss: 21256332.0:  12%|█▏        | 11575/100000 [00:40<05:07, 287.52epoch/s, train_loss=Estimator11:740882.6250, val_loss=Estimator11:21529866.0000]\n"
     ]
    },
    {
     "name": "stdout",
     "output_type": "stream",
     "text": [
      "Early stopping\n"
     ]
    },
    {
     "name": "stderr",
     "output_type": "stream",
     "text": [
      "Estimator12: Good with loss: 22076906.0:  10%|█         | 10001/100000 [00:32<04:53, 306.80epoch/s, train_loss=Estimator12:693248.1250, val_loss=Estimator12:22594918.0000]\n"
     ]
    },
    {
     "name": "stdout",
     "output_type": "stream",
     "text": [
      "Early stopping\n"
     ]
    },
    {
     "name": "stderr",
     "output_type": "stream",
     "text": [
      "Estimator13: Good with loss: 22722074.0:  12%|█▏        | 12486/100000 [00:43<05:07, 284.37epoch/s, train_loss=Estimator13:674443.3125, val_loss=Estimator13:22816450.0000]\n"
     ]
    },
    {
     "name": "stdout",
     "output_type": "stream",
     "text": [
      "Early stopping\n"
     ]
    },
    {
     "name": "stderr",
     "output_type": "stream",
     "text": [
      "Estimator14: Good with loss: 22933186.0:  10%|█         | 10001/100000 [00:32<04:50, 309.93epoch/s, train_loss=Estimator14:625488.1250, val_loss=Estimator14:23349658.0000]\n"
     ]
    },
    {
     "name": "stdout",
     "output_type": "stream",
     "text": [
      "Early stopping\n"
     ]
    },
    {
     "name": "stderr",
     "output_type": "stream",
     "text": [
      "Estimator15: Good with loss: 23418528.0:  12%|█▏        | 11815/100000 [00:42<05:13, 281.22epoch/s, train_loss=Estimator15:609475.4375, val_loss=Estimator15:23448666.0000]\n"
     ]
    },
    {
     "name": "stdout",
     "output_type": "stream",
     "text": [
      "Early stopping\n"
     ]
    },
    {
     "name": "stderr",
     "output_type": "stream",
     "text": [
      "Estimator16: Good with loss: 23498278.0:  10%|█         | 10043/100000 [00:32<04:52, 307.96epoch/s, train_loss=Estimator16:560078.2500, val_loss=Estimator16:23780340.0000]\n"
     ]
    },
    {
     "name": "stdout",
     "output_type": "stream",
     "text": [
      "Early stopping\n"
     ]
    },
    {
     "name": "stderr",
     "output_type": "stream",
     "text": [
      "Estimator17: Good with loss: 23825456.0:  15%|█▌        | 15386/100000 [00:53<04:54, 287.71epoch/s, train_loss=Estimator17:542965.5000, val_loss=Estimator17:23839974.0000]\n"
     ]
    },
    {
     "name": "stdout",
     "output_type": "stream",
     "text": [
      "Early stopping\n"
     ]
    },
    {
     "name": "stderr",
     "output_type": "stream",
     "text": [
      "Estimator18: Good with loss: 24032102.0:  10%|█         | 10001/100000 [00:32<04:50, 309.80epoch/s, train_loss=Estimator18:471681.2188, val_loss=Estimator18:24391286.0000]\n"
     ]
    },
    {
     "name": "stdout",
     "output_type": "stream",
     "text": [
      "Early stopping\n"
     ]
    },
    {
     "name": "stderr",
     "output_type": "stream",
     "text": [
      "Estimator19: Good with loss: 24012224.0: 100%|██████████| 100000/100000 [06:18<00:00, 263.91epoch/s, train_loss=Estimator19:402708.0938, val_loss=Estimator19:24012226.0000]\n",
      "Estimator20: Good with loss: 26767098.0:  10%|█         | 10001/100000 [00:33<04:57, 302.94epoch/s, train_loss=Estimator20:287731.4375, val_loss=Estimator20:26833668.0000]\n"
     ]
    },
    {
     "name": "stdout",
     "output_type": "stream",
     "text": [
      "Early stopping\n"
     ]
    },
    {
     "name": "stderr",
     "output_type": "stream",
     "text": [
      "Estimator21: Good with loss: 25748816.0: 100%|██████████| 100000/100000 [05:45<00:00, 289.28epoch/s, train_loss=Estimator21:286276.6875, val_loss=Estimator21:25751348.0000]\n",
      "Estimator22: Good with loss: 25071934.0:  24%|██▍       | 23929/100000 [01:19<04:11, 302.35epoch/s, train_loss=Estimator22:285848.6562, val_loss=Estimator22:25115656.0000]\n"
     ]
    },
    {
     "name": "stdout",
     "output_type": "stream",
     "text": [
      "Early stopping\n"
     ]
    },
    {
     "name": "stderr",
     "output_type": "stream",
     "text": [
      "Estimator23: Good with loss: 25077362.0:  10%|█         | 10051/100000 [00:29<04:21, 344.26epoch/s, train_loss=Estimator23:285774.2812, val_loss=Estimator23:25167332.0000]\n"
     ]
    },
    {
     "name": "stdout",
     "output_type": "stream",
     "text": [
      "Early stopping\n"
     ]
    },
    {
     "name": "stderr",
     "output_type": "stream",
     "text": [
      "Estimator24: Good with loss: 25198024.0:  24%|██▍       | 23830/100000 [01:17<04:08, 306.95epoch/s, train_loss=Estimator24:285711.4062, val_loss=Estimator24:25236038.0000]\n"
     ]
    },
    {
     "name": "stdout",
     "output_type": "stream",
     "text": [
      "Early stopping\n"
     ]
    },
    {
     "name": "stderr",
     "output_type": "stream",
     "text": [
      "Estimator25: Good with loss: 25199882.0:  10%|█         | 10087/100000 [00:33<04:55, 304.56epoch/s, train_loss=Estimator25:285626.5312, val_loss=Estimator25:25281832.0000]\n"
     ]
    },
    {
     "name": "stdout",
     "output_type": "stream",
     "text": [
      "Early stopping\n"
     ]
    },
    {
     "name": "stderr",
     "output_type": "stream",
     "text": [
      "Estimator26: Good with loss: 25244904.0:  10%|█         | 10001/100000 [00:31<04:42, 318.17epoch/s, train_loss=Estimator26:285612.0000, val_loss=Estimator26:25322804.0000]\n"
     ]
    },
    {
     "name": "stdout",
     "output_type": "stream",
     "text": [
      "Early stopping\n"
     ]
    },
    {
     "name": "stderr",
     "output_type": "stream",
     "text": [
      "Estimator27: Good with loss: 25372462.0:  16%|█▌        | 15701/100000 [00:51<04:36, 304.37epoch/s, train_loss=Estimator27:285565.1250, val_loss=Estimator27:25404230.0000]\n"
     ]
    },
    {
     "name": "stdout",
     "output_type": "stream",
     "text": [
      "Early stopping\n"
     ]
    },
    {
     "name": "stderr",
     "output_type": "stream",
     "text": [
      "Estimator28: Good with loss: 25381106.0:  10%|█         | 10001/100000 [00:30<04:35, 326.79epoch/s, train_loss=Estimator28:285549.2500, val_loss=Estimator28:25427690.0000]\n"
     ]
    },
    {
     "name": "stdout",
     "output_type": "stream",
     "text": [
      "Early stopping\n"
     ]
    },
    {
     "name": "stderr",
     "output_type": "stream",
     "text": [
      "Estimator29: Good with loss: 25390312.0:  10%|█         | 10001/100000 [00:33<04:57, 302.10epoch/s, train_loss=Estimator29:285526.4375, val_loss=Estimator29:25474282.0000]\n"
     ]
    },
    {
     "name": "stdout",
     "output_type": "stream",
     "text": [
      "Early stopping\n"
     ]
    },
    {
     "name": "stderr",
     "output_type": "stream",
     "text": [
      "Estimator30: Good with loss: 25461510.0:  10%|█         | 10036/100000 [00:32<04:47, 312.79epoch/s, train_loss=Estimator30:285513.0000, val_loss=Estimator30:25502042.0000]\n"
     ]
    },
    {
     "name": "stdout",
     "output_type": "stream",
     "text": [
      "Early stopping\n"
     ]
    },
    {
     "name": "stderr",
     "output_type": "stream",
     "text": [
      "Estimator31: Good with loss: 25540584.0:  10%|█         | 10086/100000 [00:32<04:45, 314.56epoch/s, train_loss=Estimator31:285480.5312, val_loss=Estimator31:25571990.0000]\n"
     ]
    },
    {
     "name": "stdout",
     "output_type": "stream",
     "text": [
      "Early stopping\n"
     ]
    },
    {
     "name": "stderr",
     "output_type": "stream",
     "text": [
      "Estimator32: Good with loss: 25551038.0:  10%|█         | 10001/100000 [00:33<05:02, 297.61epoch/s, train_loss=Estimator32:285471.0312, val_loss=Estimator32:25596990.0000]\n"
     ]
    },
    {
     "name": "stdout",
     "output_type": "stream",
     "text": [
      "Early stopping\n"
     ]
    },
    {
     "name": "stderr",
     "output_type": "stream",
     "text": [
      "Estimator33: Good with loss: 25686106.0:  12%|█▏        | 12005/100000 [00:39<04:48, 304.86epoch/s, train_loss=Estimator33:285422.8438, val_loss=Estimator33:25743876.0000]\n"
     ]
    },
    {
     "name": "stdout",
     "output_type": "stream",
     "text": [
      "Early stopping\n"
     ]
    },
    {
     "name": "stderr",
     "output_type": "stream",
     "text": [
      "Estimator34: Good with loss: 25723940.0:  10%|█         | 10025/100000 [00:33<04:58, 301.64epoch/s, train_loss=Estimator34:285415.9062, val_loss=Estimator34:25768014.0000]\n"
     ]
    },
    {
     "name": "stdout",
     "output_type": "stream",
     "text": [
      "Early stopping\n"
     ]
    },
    {
     "name": "stderr",
     "output_type": "stream",
     "text": [
      "Estimator35: Good with loss: 25863156.0:  12%|█▏        | 11876/100000 [00:36<04:30, 325.53epoch/s, train_loss=Estimator35:285376.9375, val_loss=Estimator35:25913960.0000]\n"
     ]
    },
    {
     "name": "stdout",
     "output_type": "stream",
     "text": [
      "Early stopping\n"
     ]
    },
    {
     "name": "stderr",
     "output_type": "stream",
     "text": [
      "Estimator36: Good with loss: 25843184.0:  10%|█         | 10001/100000 [00:35<05:15, 285.43epoch/s, train_loss=Estimator36:285372.6562, val_loss=Estimator36:25935306.0000]\n"
     ]
    },
    {
     "name": "stdout",
     "output_type": "stream",
     "text": [
      "Early stopping\n"
     ]
    },
    {
     "name": "stderr",
     "output_type": "stream",
     "text": [
      "Estimator37: Good with loss: 25958006.0:  16%|█▌        | 15527/100000 [00:50<04:36, 305.39epoch/s, train_loss=Estimator37:285357.8750, val_loss=Estimator37:26002948.0000]\n"
     ]
    },
    {
     "name": "stdout",
     "output_type": "stream",
     "text": [
      "Early stopping\n"
     ]
    },
    {
     "name": "stderr",
     "output_type": "stream",
     "text": [
      "Estimator38: Good with loss: 25998462.0:  10%|█         | 10001/100000 [00:32<04:52, 307.78epoch/s, train_loss=Estimator38:285349.3438, val_loss=Estimator38:26041616.0000]\n"
     ]
    },
    {
     "name": "stdout",
     "output_type": "stream",
     "text": [
      "Early stopping\n"
     ]
    },
    {
     "name": "stderr",
     "output_type": "stream",
     "text": [
      "Estimator39: Good with loss: 26040180.0:  11%|█▏        | 11338/100000 [00:38<04:59, 296.42epoch/s, train_loss=Estimator39:285341.7500, val_loss=Estimator39:26078294.0000]\n"
     ]
    },
    {
     "name": "stdout",
     "output_type": "stream",
     "text": [
      "Early stopping\n"
     ]
    },
    {
     "name": "stderr",
     "output_type": "stream",
     "text": [
      "Estimator40: Good with loss: 26048222.0:  10%|█         | 10001/100000 [00:31<04:46, 314.18epoch/s, train_loss=Estimator40:285330.7812, val_loss=Estimator40:26133434.0000]\n"
     ]
    },
    {
     "name": "stdout",
     "output_type": "stream",
     "text": [
      "Early stopping\n"
     ]
    },
    {
     "name": "stderr",
     "output_type": "stream",
     "text": [
      "Estimator41: Good with loss: 26078966.0:  10%|█         | 10001/100000 [00:30<04:33, 328.91epoch/s, train_loss=Estimator41:285326.0938, val_loss=Estimator41:26159246.0000]\n"
     ]
    },
    {
     "name": "stdout",
     "output_type": "stream",
     "text": [
      "Early stopping\n"
     ]
    },
    {
     "name": "stderr",
     "output_type": "stream",
     "text": [
      "Estimator42: Good with loss: 26155730.0:  10%|█         | 10103/100000 [00:31<04:38, 322.22epoch/s, train_loss=Estimator42:285318.9375, val_loss=Estimator42:26198550.0000]\n"
     ]
    },
    {
     "name": "stdout",
     "output_type": "stream",
     "text": [
      "Early stopping\n"
     ]
    },
    {
     "name": "stderr",
     "output_type": "stream",
     "text": [
      "Estimator43: Good with loss: 26196952.0:  12%|█▏        | 11501/100000 [00:35<04:32, 325.17epoch/s, train_loss=Estimator43:285313.7500, val_loss=Estimator43:26234104.0000]\n"
     ]
    },
    {
     "name": "stdout",
     "output_type": "stream",
     "text": [
      "Early stopping\n"
     ]
    },
    {
     "name": "stderr",
     "output_type": "stream",
     "text": [
      "Estimator44: Good with loss: 26287020.0:  16%|█▌        | 15937/100000 [00:50<04:27, 314.40epoch/s, train_loss=Estimator44:285298.4688, val_loss=Estimator44:26338138.0000]\n"
     ]
    },
    {
     "name": "stdout",
     "output_type": "stream",
     "text": [
      "Early stopping\n"
     ]
    },
    {
     "name": "stderr",
     "output_type": "stream",
     "text": [
      "Estimator45: Good with loss: 26319668.0:  10%|█         | 10067/100000 [00:34<05:10, 289.24epoch/s, train_loss=Estimator45:285294.7500, val_loss=Estimator45:26359818.0000]\n"
     ]
    },
    {
     "name": "stdout",
     "output_type": "stream",
     "text": [
      "Early stopping\n"
     ]
    },
    {
     "name": "stderr",
     "output_type": "stream",
     "text": [
      "Estimator46: Good with loss: 26373576.0:  10%|█         | 10001/100000 [00:32<04:54, 305.52epoch/s, train_loss=Estimator46:285287.3438, val_loss=Estimator46:26411552.0000]\n"
     ]
    },
    {
     "name": "stdout",
     "output_type": "stream",
     "text": [
      "Early stopping\n"
     ]
    },
    {
     "name": "stderr",
     "output_type": "stream",
     "text": [
      "Estimator47: Good with loss: 26314494.0:  10%|█         | 10001/100000 [00:34<05:06, 293.36epoch/s, train_loss=Estimator47:285284.5625, val_loss=Estimator47:26433542.0000]\n"
     ]
    },
    {
     "name": "stdout",
     "output_type": "stream",
     "text": [
      "Early stopping\n"
     ]
    },
    {
     "name": "stderr",
     "output_type": "stream",
     "text": [
      "Estimator48: Good with loss: 26430240.0:  12%|█▏        | 11786/100000 [00:37<04:42, 312.41epoch/s, train_loss=Estimator48:285280.2188, val_loss=Estimator48:26464370.0000]\n"
     ]
    },
    {
     "name": "stdout",
     "output_type": "stream",
     "text": [
      "Early stopping\n"
     ]
    },
    {
     "name": "stderr",
     "output_type": "stream",
     "text": [
      "Estimator49: Good with loss: 26466434.0:  10%|█         | 10067/100000 [00:35<05:15, 285.27epoch/s, train_loss=Estimator49:285274.4375, val_loss=Estimator49:26510294.0000]\n"
     ]
    },
    {
     "name": "stdout",
     "output_type": "stream",
     "text": [
      "Early stopping\n"
     ]
    },
    {
     "name": "stderr",
     "output_type": "stream",
     "text": [
      "Estimator50: Good with loss: 26497734.0:  12%|█▏        | 11992/100000 [00:37<04:37, 317.28epoch/s, train_loss=Estimator50:285271.2188, val_loss=Estimator50:26539472.0000]\n"
     ]
    },
    {
     "name": "stdout",
     "output_type": "stream",
     "text": [
      "Early stopping\n"
     ]
    },
    {
     "name": "stderr",
     "output_type": "stream",
     "text": [
      "Estimator51: Good with loss: 26483610.0:  10%|█         | 10001/100000 [00:33<05:05, 295.00epoch/s, train_loss=Estimator51:285265.1250, val_loss=Estimator51:26597546.0000]\n"
     ]
    },
    {
     "name": "stdout",
     "output_type": "stream",
     "text": [
      "Early stopping\n"
     ]
    },
    {
     "name": "stderr",
     "output_type": "stream",
     "text": [
      "Estimator52: Good with loss: 26554066.0:  10%|█         | 10001/100000 [00:32<04:49, 310.77epoch/s, train_loss=Estimator52:285263.5312, val_loss=Estimator52:26613648.0000]\n"
     ]
    },
    {
     "name": "stdout",
     "output_type": "stream",
     "text": [
      "Early stopping\n"
     ]
    },
    {
     "name": "stderr",
     "output_type": "stream",
     "text": [
      "Estimator53: Good with loss: 26622150.0:  12%|█▏        | 11686/100000 [00:39<04:58, 295.39epoch/s, train_loss=Estimator53:285257.5625, val_loss=Estimator53:26666650.0000]\n"
     ]
    },
    {
     "name": "stdout",
     "output_type": "stream",
     "text": [
      "Early stopping\n"
     ]
    },
    {
     "name": "stderr",
     "output_type": "stream",
     "text": [
      "Estimator54: Good with loss: 26632176.0:  10%|█         | 10001/100000 [00:29<04:28, 335.19epoch/s, train_loss=Estimator54:285255.4375, val_loss=Estimator54:26685118.0000]\n"
     ]
    },
    {
     "name": "stdout",
     "output_type": "stream",
     "text": [
      "Early stopping\n"
     ]
    },
    {
     "name": "stderr",
     "output_type": "stream",
     "text": [
      "Estimator55: Good with loss: 26679024.0:  10%|█         | 10001/100000 [00:32<04:56, 303.67epoch/s, train_loss=Estimator55:285250.7812, val_loss=Estimator55:26729170.0000]\n"
     ]
    },
    {
     "name": "stdout",
     "output_type": "stream",
     "text": [
      "Early stopping\n"
     ]
    },
    {
     "name": "stderr",
     "output_type": "stream",
     "text": [
      "Estimator56: Good with loss: 26704400.0:  10%|█         | 10001/100000 [00:34<05:09, 291.05epoch/s, train_loss=Estimator56:285249.3438, val_loss=Estimator56:26743920.0000]\n"
     ]
    },
    {
     "name": "stdout",
     "output_type": "stream",
     "text": [
      "Early stopping\n"
     ]
    },
    {
     "name": "stderr",
     "output_type": "stream",
     "text": [
      "Estimator57: Good with loss: 26736190.0:  10%|█         | 10130/100000 [00:34<05:09, 290.19epoch/s, train_loss=Estimator57:285246.5000, val_loss=Estimator57:26774086.0000]\n"
     ]
    },
    {
     "name": "stdout",
     "output_type": "stream",
     "text": [
      "Early stopping\n"
     ]
    },
    {
     "name": "stderr",
     "output_type": "stream",
     "text": [
      "Estimator58: Good with loss: 26667752.0:  10%|█         | 10001/100000 [00:32<04:48, 311.97epoch/s, train_loss=Estimator58:285245.3750, val_loss=Estimator58:26782654.0000]\n"
     ]
    },
    {
     "name": "stdout",
     "output_type": "stream",
     "text": [
      "Early stopping\n"
     ]
    },
    {
     "name": "stderr",
     "output_type": "stream",
     "text": [
      "Estimator59: Good with loss: 26776838.0:  12%|█▏        | 11609/100000 [00:38<04:56, 298.29epoch/s, train_loss=Estimator59:285242.0625, val_loss=Estimator59:26817110.0000]\n"
     ]
    },
    {
     "name": "stdout",
     "output_type": "stream",
     "text": [
      "Early stopping\n"
     ]
    },
    {
     "name": "stderr",
     "output_type": "stream",
     "text": [
      "Estimator60: Good with loss: 26795300.0:  12%|█▏        | 12040/100000 [00:37<04:32, 322.59epoch/s, train_loss=Estimator60:285239.9062, val_loss=Estimator60:26842318.0000]\n"
     ]
    },
    {
     "name": "stdout",
     "output_type": "stream",
     "text": [
      "Early stopping\n"
     ]
    },
    {
     "name": "stderr",
     "output_type": "stream",
     "text": [
      "Estimator61: Good with loss: 26832702.0:  24%|██▍       | 23868/100000 [01:17<04:06, 309.38epoch/s, train_loss=Estimator61:285236.5000, val_loss=Estimator61:26878244.0000]\n"
     ]
    },
    {
     "name": "stdout",
     "output_type": "stream",
     "text": [
      "Early stopping\n"
     ]
    },
    {
     "name": "stderr",
     "output_type": "stream",
     "text": [
      "Estimator62: Good with loss: 26860776.0:  10%|█         | 10001/100000 [00:33<05:04, 295.66epoch/s, train_loss=Estimator62:285232.3125, val_loss=Estimator62:26927102.0000]\n"
     ]
    },
    {
     "name": "stdout",
     "output_type": "stream",
     "text": [
      "Early stopping\n"
     ]
    },
    {
     "name": "stderr",
     "output_type": "stream",
     "text": [
      "Estimator63: Good with loss: 26905730.0:  16%|█▌        | 15639/100000 [00:52<04:45, 295.42epoch/s, train_loss=Estimator63:285230.8125, val_loss=Estimator63:26948114.0000]\n"
     ]
    },
    {
     "name": "stdout",
     "output_type": "stream",
     "text": [
      "Early stopping\n"
     ]
    },
    {
     "name": "stderr",
     "output_type": "stream",
     "text": [
      "Estimator64: Good with loss: 27051286.0:  12%|█▏        | 11940/100000 [00:38<04:47, 306.76epoch/s, train_loss=Estimator64:285222.0625, val_loss=Estimator64:27088834.0000]\n"
     ]
    },
    {
     "name": "stdout",
     "output_type": "stream",
     "text": [
      "Early stopping\n"
     ]
    },
    {
     "name": "stderr",
     "output_type": "stream",
     "text": [
      "Estimator65: Good with loss: 27063270.0:  24%|██▍       | 23863/100000 [01:18<04:11, 302.22epoch/s, train_loss=Estimator65:285220.8125, val_loss=Estimator65:27109638.0000]\n"
     ]
    },
    {
     "name": "stdout",
     "output_type": "stream",
     "text": [
      "Early stopping\n"
     ]
    },
    {
     "name": "stderr",
     "output_type": "stream",
     "text": [
      "Estimator66: Good with loss: 27204320.0:  19%|█▉        | 19247/100000 [01:02<04:21, 308.33epoch/s, train_loss=Estimator66:285214.2188, val_loss=Estimator66:27234942.0000]\n"
     ]
    },
    {
     "name": "stdout",
     "output_type": "stream",
     "text": [
      "Early stopping\n"
     ]
    },
    {
     "name": "stderr",
     "output_type": "stream",
     "text": [
      "Estimator67: Good with loss: 27202062.0:  12%|█▏        | 11703/100000 [00:39<04:55, 299.27epoch/s, train_loss=Estimator67:285213.5625, val_loss=Estimator67:27242710.0000]\n"
     ]
    },
    {
     "name": "stdout",
     "output_type": "stream",
     "text": [
      "Early stopping\n"
     ]
    },
    {
     "name": "stderr",
     "output_type": "stream",
     "text": [
      "Estimator68: Good with loss: 27215622.0:  16%|█▌        | 15795/100000 [00:45<04:02, 347.70epoch/s, train_loss=Estimator68:285212.6250, val_loss=Estimator68:27261206.0000]\n"
     ]
    },
    {
     "name": "stdout",
     "output_type": "stream",
     "text": [
      "Early stopping\n"
     ]
    },
    {
     "name": "stderr",
     "output_type": "stream",
     "text": [
      "Estimator69: Good with loss: 27255152.0:   1%|          | 581/100000 [00:01<02:37, 630.23epoch/s, train_loss=Estimator69:285213.4062, val_loss=Estimator69:27255570.0000]"
     ]
    }
   ],
   "source": [
    "import pandas as pd\n",
    "import wandb\n",
    "# from IPython.display import clear_output\n",
    "# def train_grad_boost(model, epoch, train_dataloader, val_dataloader, optimizer, lr_list, loss_fn, resume = False):\n",
    "\n",
    "train_x, train_y = torch.tensor(S1_x, dtype=torch.float).to(device), torch.tensor(S1_y, dtype=torch.float).unsqueeze(dim=1).to(device)\n",
    "val_x, val_y = torch.tensor(S2_x, dtype=torch.float).to(device), torch.tensor(S2_y, dtype=torch.float).unsqueeze(dim=1).to(device)\n",
    "test_x, test_y = torch.tensor(S3_x, dtype=torch.float).to(device), torch.tensor(S3_y, dtype=torch.float).unsqueeze(dim=1).to(device)\n",
    "\n",
    "\n",
    "def save_checkpoint_boost(state, is_best, index):\n",
    "    torch.save(state, f'runs/grad_boost/grad_J_best_{index}.pth')\n",
    "    if is_best:\n",
    "        # print('Found best')\n",
    "        torch.save(state, f'runs/grad_boost/grad_J_last_{index}.pth')\n",
    "    \n",
    "wandb.login()\n",
    "\n",
    "\n",
    "num_model = 100\n",
    "epoch = 100000\n",
    "lr_list = [ReduceLROnPlateau, CyclicLR]\n",
    "models = []\n",
    "gammas = []\n",
    "    \n",
    "early_stop = 10000\n",
    "count_stop = 0\n",
    "\n",
    "\n",
    "train_output = torch.zeros_like(train_y).to(device)\n",
    "val_output = 0\n",
    "test_output = 0\n",
    "train_y_new = train_y.clone()\n",
    "val_y_new = val_y.clone()\n",
    "\n",
    "# Initialize Weights & Biases\n",
    "wandb.init(\n",
    "    project=\"J1-gradboostregressor\", \n",
    "    config={\n",
    "        \"epochs\": epoch*num_model,\n",
    "    })  \n",
    "\n",
    "     \n",
    "\n",
    "for i in range(num_model):\n",
    "    with tqdm(range(epoch), desc=f\"Estimator{i+1}\", unit='epoch') as pbar:\n",
    "        \n",
    "        # Inintialize the model\n",
    "        model = RegressionModel().to(device)\n",
    "        loss_fn = nn.MSELoss\n",
    "        optimizer = torch.optim.Adam(model.parameters(), lr=1)\n",
    "        \n",
    "        \n",
    "        best_loss = float('inf')\n",
    "        result = {'epoch':[] ,'train_loss_total':[], \"val_loss_total\":[], 'lr':[]}\n",
    "        lr_ROP = None\n",
    "        lr_else = []\n",
    "        for lr in lr_list:\n",
    "            if lr.__name__ == 'ReduceLROnPlateau':\n",
    "                lr_ROP = lr(optimizer, mode='max', factor=0.1, patience=10, threshold=0, eps=0)\n",
    "            elif lr.__name__ == 'CyclicLR':\n",
    "                lr_else.append(lr(optimizer, base_lr=1e-4, max_lr=1e-2, step_size_up=2000, cycle_momentum=False))\n",
    "            \n",
    "        for e in pbar:\n",
    "            # Training loop\n",
    "            result['epoch'].append(e*(i+1)+1)\n",
    "\n",
    "            # loss_epoch = 0\n",
    "            model.train()\n",
    "\n",
    "            # batch_data = batch_data.to(device)\n",
    "            # batch_data = (batch_data - train_data.mean_x())/train_data.std_x() # Normalize the data\n",
    "            #batch_labels = batch_labels.movedim(0, 1)\n",
    "\n",
    "            # Forward pass\n",
    "            # label = batch_labels.to(device)\n",
    "            # label = (label - train_data.mean())/train_data.std() # Normalize the labels\n",
    "\n",
    "            output = model(train_x)\n",
    "            # Optim\n",
    "            optimizer.zero_grad()\n",
    "            if loss_fn.__name__ == 'adjusted_r2_loss':\n",
    "                loss = loss_fn(output, train_y_new, 82)\n",
    "            elif loss_fn.__name__ == 'MSELoss':\n",
    "                loss = loss_fn()(output, train_y_new)\n",
    "            loss_epoch = loss.item()\n",
    "            loss.backward()\n",
    "            optimizer.step()\n",
    "                \n",
    "\n",
    "\n",
    "            # Combined loss\n",
    "            # loss_epoch /= len(train_loader)\n",
    "            result['train_loss_total'].append(loss_epoch)\n",
    "\n",
    "            # print('Loss: ', loss_epoch)\n",
    "\n",
    "            # Vaidating\n",
    "            model.eval()\n",
    "        \n",
    "            with torch.no_grad():\n",
    "                # print('Val------')\n",
    "                # X = (X - train_data.mean_x())/train_data.std_x() # Normalize the data\n",
    "                pred = model(val_x)\n",
    "                # label = (label - train_data.mean())/train_data.std() # Normalize the labels   \n",
    "                if loss_fn.__name__ == 'adjusted_r2_loss':\n",
    "                    loss = loss_fn(pred, val_y_new, 82)\n",
    "                elif loss_fn.__name__ == 'MSELoss':\n",
    "                    loss = loss_fn()(pred, val_y_new)\n",
    "                test_loss = loss.item()\n",
    "                \n",
    "                for lr in lr_else:\n",
    "                    lr.step()\n",
    "\n",
    "            lr_ROP.step(test_loss)\n",
    "            result['lr'].append(lr_ROP.get_last_lr())\n",
    "            \n",
    "            result['val_loss_total'].append(test_loss)\n",
    "            \n",
    "            # Update the progress bar with 100*n epoch, train loss, and val loss\n",
    "            # if e % 10 == 0:\n",
    "            pbar.set_postfix(train_loss=f\"Estimator{i+1}:{loss_epoch:.4f}\", val_loss=f\"Estimator{i+1}:{test_loss:.4f}\")\n",
    "                # wandb.log({f\"Estimator{i+1}_train_loss\": loss_epoch, f\"Estimator{i+1}:_val_loss\": test_loss})\n",
    "            \n",
    "            # remember best acc@ and save checkpoint\n",
    "            \n",
    "            is_best = test_loss < best_loss\n",
    "            if is_best:\n",
    "                count_stop = 0\n",
    "                pbar.set_description(f'Estimator{i+1}: Good with loss: {test_loss}', refresh=True)\n",
    "            else:\n",
    "                count_stop += 1\n",
    "                if count_stop > early_stop:\n",
    "                    print('Early stopping')\n",
    "                    break\n",
    "            best_loss = min(test_loss, best_loss)\n",
    "            # save_checkpoint_boost({\n",
    "            #     f'state_dict': model.state_dict(),\n",
    "            # }, is_best, i)\n",
    "            \n",
    "        # Create new y_train\n",
    "        with torch.no_grad():  \n",
    "            models.append(model)\n",
    "            gamma = 1* -(train_output*model(train_x) - model(train_x)*train_y).sum()/(model(train_x)**2).sum().item()\n",
    "            gammas.append(gamma.item())\n",
    "            train_output += gamma*model(train_x).detach()\n",
    "            val_output += gamma*model(val_x).detach()\n",
    "            \n",
    "\n",
    "                \n",
    "            if loss_fn.__name__ == 'adjusted_r2_loss':\n",
    "                val_loss = loss_fn(val_output, val_y, 82).item()\n",
    "                train_loss = loss_fn(train_output, train_y, 82).item()\n",
    "            elif loss_fn.__name__ == 'MSELoss':\n",
    "                val_loss = loss_fn()(val_y, val_output).item()\n",
    "                train_loss = loss_fn()(train_y, train_output).item()\n",
    "            wandb.log({f\"Total_train_loss\": train_loss, f'Total_val_loss': val_loss})\n",
    "                \n",
    "            train_y_new -= gamma*model(train_x).detach()\n",
    "            val_y_new -= gamma*model(val_x).detach()\n",
    "\n",
    "            # print(f\"\"\"Val Error:\n",
    "            # Avg loss: {test_loss}\n",
    "            # \"\"\")\n",
    "            # if (e+1) % 10 == 0:\n",
    "            #     clear_output(wait=True)\n",
    "r = pd.DataFrame(result)\n",
    "r.to_csv(f'runs/resultJ.csv')\n",
    "# return result\n"
   ]
  },
  {
   "cell_type": "code",
   "execution_count": 74,
   "metadata": {},
   "outputs": [
    {
     "data": {
      "image/png": "[encoded data removed]",
      "text/plain": [
       "<Figure size 640x480 with 1 Axes>"
      ]
     },
     "metadata": {},
     "output_type": "display_data"
    }
   ],
   "source": [
    "output=0\n",
    "for model in models:\n",
    "    model.eval()\n",
    "    with torch.no_grad():\n",
    "        # train_output += model(train_x)\n",
    "        # val_output += model(val_x)\n",
    "        output += model(train_x)\n",
    "        \n",
    "plt.plot(output.cpu().numpy(), label='Predicted')\n",
    "plt.plot(train_y.cpu().numpy(), label='True')\n",
    "plt.legend()\n",
    "plt.show()"
   ]
  },
  {
   "cell_type": "code",
   "execution_count": 140,
   "metadata": {},
   "outputs": [
    {
     "name": "stderr",
     "output_type": "stream",
     "text": [
      "\u001b[34m\u001b[1mwandb\u001b[0m: \u001b[33mWARNING\u001b[0m Calling wandb.login() after wandb.init() has no effect.\n"
     ]
    },
    {
     "data": {
      "text/html": [
       "Finishing last run (ID:cg4hnrme) before initializing another..."
      ],
      "text/plain": [
       "<IPython.core.display.HTML object>"
      ]
     },
     "metadata": {},
     "output_type": "display_data"
    },
    {
     "data": {
      "text/html": [
       "<style>\n",
       "    table.wandb td:nth-child(1) { padding: 0 10px; text-align: left ; width: auto;} td:nth-child(2) {text-align: left ; width: 100%}\n",
       "    .wandb-row { display: flex; flex-direction: row; flex-wrap: wrap; justify-content: flex-start; width: 100% }\n",
       "    .wandb-col { display: flex; flex-direction: column; flex-basis: 100%; flex: 1; padding: 10px; }\n",
       "    </style>\n",
       "<div class=\"wandb-row\"><div class=\"wandb-col\"><h3>Run history:</h3><br/><table class=\"wandb\"><tr><td>train_loss</td><td>█▁▁▁▁▁▁▁▁▁▁▁▁▁▁▁▁▁▁▁▁▁▁▁▁▁▁▁▁▁▁▁▁▁▁▁▁▁▁▁</td></tr><tr><td>val_loss</td><td>█▁▁▁▁▁▁▁▁▁▁▁▁▁▁▁▁▁▁▁▁▁▁▁▁▁▁▁▁▁▁▁▁▁▁▁▁▁▁▁</td></tr></table><br/></div><div class=\"wandb-col\"><h3>Run summary:</h3><br/><table class=\"wandb\"><tr><td>train_loss</td><td>-1.52906</td></tr><tr><td>val_loss</td><td>-1.53723</td></tr></table><br/></div></div>"
      ],
      "text/plain": [
       "<IPython.core.display.HTML object>"
      ]
     },
     "metadata": {},
     "output_type": "display_data"
    },
    {
     "data": {
      "text/html": [
       " View run <strong style=\"color:#cdcd00\">avid-sunset-22</strong> at: <a href='https://wandb.ai/grpprj/J1-regressor/runs/cg4hnrme' target=\"_blank\">https://wandb.ai/grpprj/J1-regressor/runs/cg4hnrme</a><br/> View project at: <a href='https://wandb.ai/grpprj/J1-regressor' target=\"_blank\">https://wandb.ai/grpprj/J1-regressor</a><br/>Synced 6 W&B file(s), 0 media file(s), 0 artifact file(s) and 0 other file(s)"
      ],
      "text/plain": [
       "<IPython.core.display.HTML object>"
      ]
     },
     "metadata": {},
     "output_type": "display_data"
    },
    {
     "data": {
      "text/html": [
       "Find logs at: <code>./wandb/run-20240816_001745-cg4hnrme/logs</code>"
      ],
      "text/plain": [
       "<IPython.core.display.HTML object>"
      ]
     },
     "metadata": {},
     "output_type": "display_data"
    },
    {
     "data": {
      "text/html": [
       "The new W&B backend becomes opt-out in version 0.18.0; try it out with `wandb.require(\"core\")`! See https://wandb.me/wandb-core for more information."
      ],
      "text/plain": [
       "<IPython.core.display.HTML object>"
      ]
     },
     "metadata": {},
     "output_type": "display_data"
    },
    {
     "data": {
      "text/html": [
       "Successfully finished last run (ID:cg4hnrme). Initializing new run:<br/>"
      ],
      "text/plain": [
       "<IPython.core.display.HTML object>"
      ]
     },
     "metadata": {},
     "output_type": "display_data"
    },
    {
     "data": {
      "text/html": [
       "wandb version 0.17.7 is available!  To upgrade, please run:\n",
       " $ pip install wandb --upgrade"
      ],
      "text/plain": [
       "<IPython.core.display.HTML object>"
      ]
     },
     "metadata": {},
     "output_type": "display_data"
    },
    {
     "data": {
      "text/html": [
       "Tracking run with wandb version 0.17.6"
      ],
      "text/plain": [
       "<IPython.core.display.HTML object>"
      ]
     },
     "metadata": {},
     "output_type": "display_data"
    },
    {
     "data": {
      "text/html": [
       "Run data is saved locally in <code>/storage/student5/minh_chu/PhosphoreHyper/wandb/run-20240816_002704-bt25mfl2</code>"
      ],
      "text/plain": [
       "<IPython.core.display.HTML object>"
      ]
     },
     "metadata": {},
     "output_type": "display_data"
    },
    {
     "data": {
      "text/html": [
       "Syncing run <strong><a href='https://wandb.ai/grpprj/J1-regressor/runs/bt25mfl2' target=\"_blank\">gentle-frost-23</a></strong> to <a href='https://wandb.ai/grpprj/J1-regressor' target=\"_blank\">Weights & Biases</a> (<a href='https://wandb.me/run' target=\"_blank\">docs</a>)<br/>"
      ],
      "text/plain": [
       "<IPython.core.display.HTML object>"
      ]
     },
     "metadata": {},
     "output_type": "display_data"
    },
    {
     "data": {
      "text/html": [
       " View project at <a href='https://wandb.ai/grpprj/J1-regressor' target=\"_blank\">https://wandb.ai/grpprj/J1-regressor</a>"
      ],
      "text/plain": [
       "<IPython.core.display.HTML object>"
      ]
     },
     "metadata": {},
     "output_type": "display_data"
    },
    {
     "data": {
      "text/html": [
       " View run at <a href='https://wandb.ai/grpprj/J1-regressor/runs/bt25mfl2' target=\"_blank\">https://wandb.ai/grpprj/J1-regressor/runs/bt25mfl2</a>"
      ],
      "text/plain": [
       "<IPython.core.display.HTML object>"
      ]
     },
     "metadata": {},
     "output_type": "display_data"
    },
    {
     "name": "stderr",
     "output_type": "stream",
     "text": [
      "Epoch17000: Good with lr: [0.009990099999999988]:  18%|█▊        | 18001/100000 [10:36<48:17, 28.30epoch/s, train_loss=-1.5514, val_loss=-1.5439]      \n"
     ]
    },
    {
     "name": "stdout",
     "output_type": "stream",
     "text": [
      "Early stopping\n"
     ]
    }
   ],
   "source": [
    "wandb.login()\n",
    "result = train(model, 100000, train_loader, val_loader, optimizer, [lr1, lr2],  loss_fn, resume = False)"
   ]
  },
  {
   "cell_type": "code",
   "execution_count": null,
   "metadata": {},
   "outputs": [],
   "source": [
    "result"
   ]
  },
  {
   "cell_type": "code",
   "execution_count": 87,
   "metadata": {},
   "outputs": [
    {
     "data": {
      "text/plain": [
       "1475"
      ]
     },
     "execution_count": 87,
     "metadata": {},
     "output_type": "execute_result"
    }
   ],
   "source": [
    "len(result['epoch'])"
   ]
  },
  {
   "cell_type": "code",
   "execution_count": 141,
   "metadata": {},
   "outputs": [
    {
     "name": "stderr",
     "output_type": "stream",
     "text": [
      "100%|██████████| 90/90 [00:00<00:00, 1328.77it/s]\n"
     ]
    }
   ],
   "source": [
    "# model.load_state_dict(torch.load(f\"runs/100000_J_conv_last.pth\"))\n",
    "model.eval()\n",
    "# model(torch.Tensor([train_x[1]]).to(device)), train_y[1]\n",
    "with torch.no_grad():\n",
    "    predict = []\n",
    "    for x in tqdm(S1_x):\n",
    "        # x = (x - train_data.mean_x())/train_data.std_x()\n",
    "        predict.append(model(torch.Tensor([x]).to(device).unsqueeze(1)).item())"
   ]
  },
  {
   "cell_type": "code",
   "execution_count": 142,
   "metadata": {},
   "outputs": [
    {
     "name": "stderr",
     "output_type": "stream",
     "text": [
      "100%|██████████| 90/90 [00:00<00:00, 1440.24it/s]\n"
     ]
    }
   ],
   "source": [
    "# model.load_state_dict(torch.load(f\"runs/100000_J_conv_best.pth\"))\n",
    "model.eval()\n",
    "# model(torch.Tensor([train_x[1]]).to(device)), train_y[1]\n",
    "with torch.no_grad():\n",
    "    predict1 = []\n",
    "    for x in tqdm(S1_x):\n",
    "        # x = (x - train_data.mean_x())/train_data.std_x()\n",
    "        predict1.append(model(torch.Tensor([x]).to(device).unsqueeze(1)).item())"
   ]
  },
  {
   "cell_type": "code",
   "execution_count": 144,
   "metadata": {},
   "outputs": [
    {
     "data": {
      "text/plain": [
       "[<matplotlib.lines.Line2D at 0x7f8bc414bd50>]"
      ]
     },
     "execution_count": 144,
     "metadata": {},
     "output_type": "execute_result"
    },
    {
     "data": {
      "image/png": "[encoded data removed]",
      "text/plain": [
       "<Figure size 640x480 with 1 Axes>"
      ]
     },
     "metadata": {},
     "output_type": "display_data"
    }
   ],
   "source": [
    "plt.plot([i for i in range(len(S1_y))],S1_y)"
   ]
  },
  {
   "cell_type": "code",
   "execution_count": 143,
   "metadata": {},
   "outputs": [
    {
     "data": {
      "image/png": "[encoded data removed]",
      "text/plain": [
       "<Figure size 640x480 with 1 Axes>"
      ]
     },
     "metadata": {},
     "output_type": "display_data"
    }
   ],
   "source": [
    "# plt.plot([i for i in range(len(predict))], predict, c = 'green', label = 'Last')\n",
    "plt.plot([i for i in range(len(predict1))], predict1, c = 'red', label = 'Best')\n",
    "plt.plot([i for i in range(len(S1_y))], S1_y, c = 'blue', label = 'True')\n",
    "plt.legend()\n",
    "plt.show()"
   ]
  },
  {
   "cell_type": "code",
   "execution_count": 85,
   "metadata": {},
   "outputs": [
    {
     "data": {
      "image/png": "[encoded data removed]",
      "text/plain": [
       "<Figure size 640x480 with 1 Axes>"
      ]
     },
     "metadata": {},
     "output_type": "display_data"
    }
   ],
   "source": [
    "plt.plot(result['epoch'], result['train_loss_total'], label='train')\n",
    "plt.plot(result['epoch'], result['val_loss_total'], label='val')\n",
    "plt.y_ticks = np.arange(10, 100, 1000)\n",
    "plt.legend()\n",
    "plt.show()"
   ]
  },
  {
   "cell_type": "code",
   "execution_count": 53,
   "metadata": {},
   "outputs": [
    {
     "data": {
      "text/plain": [
       "[<matplotlib.lines.Line2D at 0x7f0d118694d0>]"
      ]
     },
     "execution_count": 53,
     "metadata": {},
     "output_type": "execute_result"
    },
    {
     "data": {
      "image/png": "[encoded data removed]",
      "text/plain": [
       "<Figure size 640x480 with 1 Axes>"
      ]
     },
     "metadata": {},
     "output_type": "display_data"
    }
   ],
   "source": [
    "model.load_state_dict(torch.load('runs/20000_best.pth'))\n",
    "model.eval()\n",
    "predict = []\n",
    "for i in test_x:\n",
    "    i = (i - train_data.mean_x())/train_data.std_x()\n",
    "    predict.append(model(torch.Tensor(i).to(device)).item())\n",
    "# model(torch.Tensor(test_x[1]).to(device)), test_y[1]\n",
    "\n",
    "plt.plot([i for i in range(len(test_x))], predict, c='blue')\n",
    "plt.plot([i for i in range(len(test_y))], test_y, c='red')"
   ]
  }
 ],
 "metadata": {
  "kernelspec": {
   "display_name": "minhchu1",
   "language": "python",
   "name": "python3"
  },
  "language_info": {
   "codemirror_mode": {
    "name": "ipython",
    "version": 3
   },
   "file_extension": ".py",
   "mimetype": "text/x-python",
   "name": "python",
   "nbconvert_exporter": "python",
   "pygments_lexer": "ipython3",
   "version": "3.11.9"
  }
 },
 "nbformat": 4,
 "nbformat_minor": 2
}
